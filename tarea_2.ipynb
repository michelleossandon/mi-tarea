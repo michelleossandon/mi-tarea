{
 "cells": [
  {
   "cell_type": "code",
   "execution_count": 3,
   "metadata": {},
   "outputs": [
    {
     "name": "stdout",
     "output_type": "stream",
     "text": [
      "          0                 1                2                         3    \n",
      "0  work_year  experience_level  employment_type                 job_title  \\\n",
      "1       2023                SE               FT  Principal Data Scientist   \n",
      "2       2023                MI               CT               ML Engineer   \n",
      "3       2023                MI               CT               ML Engineer   \n",
      "4       2023                SE               FT            Data Scientist   \n",
      "\n",
      "       4                5              6                   7             8    \n",
      "0  salary  salary_currency  salary_in_usd  employee_residence  remote_ratio  \\\n",
      "1   80000              EUR          85847                  ES           100   \n",
      "2   30000              USD          30000                  US           100   \n",
      "3   25500              USD          25500                  US           100   \n",
      "4  175000              USD         175000                  CA           100   \n",
      "\n",
      "                 9             10  \n",
      "0  company_location  company_size  \n",
      "1                ES             L  \n",
      "2                US             S  \n",
      "3                US             S  \n",
      "4                CA             M  \n"
     ]
    }
   ],
   "source": [
    "import pandas as pd\n",
    "datos=pd.read_csv(\"C:/Users/eilee/OneDrive/Escritorio/Michelle/metricas_si/ds_salaries.csv\", header=None)\n",
    "\n",
    "print(datos.head())"
   ]
  },
  {
   "cell_type": "code",
   "execution_count": 11,
   "metadata": {},
   "outputs": [],
   "source": [
    "import statsmodels.formula.api as smf\n",
    "import matplotlib.pyplot as plt\n",
    "import numpy as np\n",
    "\n",
    "\n"
   ]
  },
  {
   "cell_type": "code",
   "execution_count": 15,
   "metadata": {},
   "outputs": [
    {
     "name": "stdout",
     "output_type": "stream",
     "text": [
      "   work_year experience_level employment_type                 job_title   \n",
      "0       2023               SE              FT  Principal Data Scientist  \\\n",
      "1       2023               MI              CT               ML Engineer   \n",
      "2       2023               MI              CT               ML Engineer   \n",
      "3       2023               SE              FT            Data Scientist   \n",
      "4       2023               SE              FT            Data Scientist   \n",
      "\n",
      "   salary salary_currency  salary_in_usd employee_residence  remote_ratio   \n",
      "0   80000             EUR          85847                 ES           100  \\\n",
      "1   30000             USD          30000                 US           100   \n",
      "2   25500             USD          25500                 US           100   \n",
      "3  175000             USD         175000                 CA           100   \n",
      "4  120000             USD         120000                 CA           100   \n",
      "\n",
      "  company_location company_size  \n",
      "0               ES            L  \n",
      "1               US            S  \n",
      "2               US            S  \n",
      "3               CA            M  \n",
      "4               CA            M  \n"
     ]
    }
   ],
   "source": [
    "data = pd.read_csv(\"C:/Users/eilee/OneDrive/Escritorio/Michelle/metricas_si/ds_salaries.csv\")\n",
    "\n",
    "print(data.head())"
   ]
  },
  {
   "cell_type": "code",
   "execution_count": 16,
   "metadata": {},
   "outputs": [
    {
     "name": "stdout",
     "output_type": "stream",
     "text": [
      "3755\n"
     ]
    }
   ],
   "source": [
    "print(len(data))"
   ]
  },
  {
   "cell_type": "code",
   "execution_count": 18,
   "metadata": {},
   "outputs": [
    {
     "name": "stdout",
     "output_type": "stream",
     "text": [
      "Intercept        225390.516881\n",
      "salary_in_usd        -0.252198\n",
      "dtype: float64\n"
     ]
    }
   ],
   "source": [
    "lineal_model_simple = smf.ols(formula= \"salary~salary_in_usd\", data=data).fit()\n",
    "print(lineal_model_simple.params)"
   ]
  },
  {
   "cell_type": "code",
   "execution_count": 6,
   "metadata": {},
   "outputs": [
    {
     "name": "stdout",
     "output_type": "stream",
     "text": [
      "   work_year experience_level employment_type                 job_title   \n",
      "0       2023               SE              FT  Principal Data Scientist  \\\n",
      "1       2023               MI              CT               ML Engineer   \n",
      "2       2023               MI              CT               ML Engineer   \n",
      "3       2023               SE              FT            Data Scientist   \n",
      "4       2023               SE              FT            Data Scientist   \n",
      "\n",
      "   salary salary_currency  salary_in_usd employee_residence  remote_ratio   \n",
      "0   80000             EUR          85847                 ES           100  \\\n",
      "1   30000             USD          30000                 US           100   \n",
      "2   25500             USD          25500                 US           100   \n",
      "3  175000             USD         175000                 CA           100   \n",
      "4  120000             USD         120000                 CA           100   \n",
      "\n",
      "  company_location company_size  \n",
      "0               ES            L  \n",
      "1               US            S  \n",
      "2               US            S  \n",
      "3               CA            M  \n",
      "4               CA            M  \n"
     ]
    },
    {
     "ename": "KeyError",
     "evalue": "'Y'",
     "output_type": "error",
     "traceback": [
      "\u001b[1;31m---------------------------------------------------------------------------\u001b[0m",
      "\u001b[1;31mKeyError\u001b[0m                                  Traceback (most recent call last)",
      "File \u001b[1;32mc:\\Users\\eilee\\Codigos_clase mtm\\venv\\Lib\\site-packages\\pandas\\core\\indexes\\base.py:3652\u001b[0m, in \u001b[0;36mIndex.get_loc\u001b[1;34m(self, key)\u001b[0m\n\u001b[0;32m   3651\u001b[0m \u001b[39mtry\u001b[39;00m:\n\u001b[1;32m-> 3652\u001b[0m     \u001b[39mreturn\u001b[39;00m \u001b[39mself\u001b[39;49m\u001b[39m.\u001b[39;49m_engine\u001b[39m.\u001b[39;49mget_loc(casted_key)\n\u001b[0;32m   3653\u001b[0m \u001b[39mexcept\u001b[39;00m \u001b[39mKeyError\u001b[39;00m \u001b[39mas\u001b[39;00m err:\n",
      "File \u001b[1;32mc:\\Users\\eilee\\Codigos_clase mtm\\venv\\Lib\\site-packages\\pandas\\_libs\\index.pyx:147\u001b[0m, in \u001b[0;36mpandas._libs.index.IndexEngine.get_loc\u001b[1;34m()\u001b[0m\n",
      "File \u001b[1;32mc:\\Users\\eilee\\Codigos_clase mtm\\venv\\Lib\\site-packages\\pandas\\_libs\\index.pyx:176\u001b[0m, in \u001b[0;36mpandas._libs.index.IndexEngine.get_loc\u001b[1;34m()\u001b[0m\n",
      "File \u001b[1;32mpandas\\_libs\\hashtable_class_helper.pxi:7080\u001b[0m, in \u001b[0;36mpandas._libs.hashtable.PyObjectHashTable.get_item\u001b[1;34m()\u001b[0m\n",
      "File \u001b[1;32mpandas\\_libs\\hashtable_class_helper.pxi:7088\u001b[0m, in \u001b[0;36mpandas._libs.hashtable.PyObjectHashTable.get_item\u001b[1;34m()\u001b[0m\n",
      "\u001b[1;31mKeyError\u001b[0m: 'Y'",
      "\nThe above exception was the direct cause of the following exception:\n",
      "\u001b[1;31mKeyError\u001b[0m                                  Traceback (most recent call last)",
      "Cell \u001b[1;32mIn[6], line 19\u001b[0m\n\u001b[0;32m     15\u001b[0m X_encoded \u001b[39m=\u001b[39m encoder\u001b[39m.\u001b[39mfit_transform(df[[\u001b[39m'\u001b[39m\u001b[39mexperience_level\u001b[39m\u001b[39m'\u001b[39m]])\n\u001b[0;32m     17\u001b[0m X \u001b[39m=\u001b[39m pd\u001b[39m.\u001b[39mconcat([df[[\u001b[39m'\u001b[39m\u001b[39msalary_in_usd\u001b[39m\u001b[39m'\u001b[39m]], pd\u001b[39m.\u001b[39mDataFrame(X_encoded\u001b[39m.\u001b[39mtoarray())], axis\u001b[39m=\u001b[39m\u001b[39m1\u001b[39m)\n\u001b[1;32m---> 19\u001b[0m model \u001b[39m=\u001b[39m LinearRegression()\u001b[39m.\u001b[39mfit(X, df[\u001b[39m'\u001b[39;49m\u001b[39mY\u001b[39;49m\u001b[39m'\u001b[39;49m])\n\u001b[0;32m     21\u001b[0m \u001b[39mprint\u001b[39m(model\u001b[39m.\u001b[39mcoef_)\n",
      "File \u001b[1;32mc:\\Users\\eilee\\Codigos_clase mtm\\venv\\Lib\\site-packages\\pandas\\core\\frame.py:3760\u001b[0m, in \u001b[0;36mDataFrame.__getitem__\u001b[1;34m(self, key)\u001b[0m\n\u001b[0;32m   3758\u001b[0m \u001b[39mif\u001b[39;00m \u001b[39mself\u001b[39m\u001b[39m.\u001b[39mcolumns\u001b[39m.\u001b[39mnlevels \u001b[39m>\u001b[39m \u001b[39m1\u001b[39m:\n\u001b[0;32m   3759\u001b[0m     \u001b[39mreturn\u001b[39;00m \u001b[39mself\u001b[39m\u001b[39m.\u001b[39m_getitem_multilevel(key)\n\u001b[1;32m-> 3760\u001b[0m indexer \u001b[39m=\u001b[39m \u001b[39mself\u001b[39;49m\u001b[39m.\u001b[39;49mcolumns\u001b[39m.\u001b[39;49mget_loc(key)\n\u001b[0;32m   3761\u001b[0m \u001b[39mif\u001b[39;00m is_integer(indexer):\n\u001b[0;32m   3762\u001b[0m     indexer \u001b[39m=\u001b[39m [indexer]\n",
      "File \u001b[1;32mc:\\Users\\eilee\\Codigos_clase mtm\\venv\\Lib\\site-packages\\pandas\\core\\indexes\\base.py:3654\u001b[0m, in \u001b[0;36mIndex.get_loc\u001b[1;34m(self, key)\u001b[0m\n\u001b[0;32m   3652\u001b[0m     \u001b[39mreturn\u001b[39;00m \u001b[39mself\u001b[39m\u001b[39m.\u001b[39m_engine\u001b[39m.\u001b[39mget_loc(casted_key)\n\u001b[0;32m   3653\u001b[0m \u001b[39mexcept\u001b[39;00m \u001b[39mKeyError\u001b[39;00m \u001b[39mas\u001b[39;00m err:\n\u001b[1;32m-> 3654\u001b[0m     \u001b[39mraise\u001b[39;00m \u001b[39mKeyError\u001b[39;00m(key) \u001b[39mfrom\u001b[39;00m \u001b[39merr\u001b[39;00m\n\u001b[0;32m   3655\u001b[0m \u001b[39mexcept\u001b[39;00m \u001b[39mTypeError\u001b[39;00m:\n\u001b[0;32m   3656\u001b[0m     \u001b[39m# If we have a listlike key, _check_indexing_error will raise\u001b[39;00m\n\u001b[0;32m   3657\u001b[0m     \u001b[39m#  InvalidIndexError. Otherwise we fall through and re-raise\u001b[39;00m\n\u001b[0;32m   3658\u001b[0m     \u001b[39m#  the TypeError.\u001b[39;00m\n\u001b[0;32m   3659\u001b[0m     \u001b[39mself\u001b[39m\u001b[39m.\u001b[39m_check_indexing_error(key)\n",
      "\u001b[1;31mKeyError\u001b[0m: 'Y'"
     ]
    }
   ],
   "source": [
    "import pandas as pd\n",
    "import statsmodels.formula.api as smf\n",
    "import matplotlib.pyplot as plt\n",
    "import numpy as np\n",
    "\n",
    "from sklearn.linear_model import LinearRegression\n",
    "from sklearn.preprocessing import OneHotEncoder\n",
    "\n",
    "\n",
    "df= pd.read_csv(\"C:/Users/eilee/OneDrive/Escritorio/Michelle/metricas_si/ds_salaries.csv\")\n",
    "\n",
    "print(df.head())\n",
    "\n",
    "encoder = OneHotEncoder()\n",
    "X_encoded = encoder.fit_transform(df[['experience_level']])\n",
    "\n",
    "X = pd.concat([df[['salary_in_usd']], pd.DataFrame(X_encoded.toarray())], axis=1)\n",
    "\n",
    "model = LinearRegression().fit(X, df['Y'])\n",
    "\n",
    "print(model.coef_)\n",
    "\n",
    "\n"
   ]
  }
 ],
 "metadata": {
  "kernelspec": {
   "display_name": "venv",
   "language": "python",
   "name": "python3"
  },
  "language_info": {
   "codemirror_mode": {
    "name": "ipython",
    "version": 3
   },
   "file_extension": ".py",
   "mimetype": "text/x-python",
   "name": "python",
   "nbconvert_exporter": "python",
   "pygments_lexer": "ipython3",
   "version": "3.11.2"
  },
  "orig_nbformat": 4
 },
 "nbformat": 4,
 "nbformat_minor": 2
}
